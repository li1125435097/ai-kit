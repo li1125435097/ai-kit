{
 "cells": [
  {
   "cell_type": "code",
   "execution_count": 2,
   "id": "2371254e",
   "metadata": {},
   "outputs": [
    {
     "name": "stdout",
     "output_type": "stream",
     "text": [
      "葡萄酒数据集如下：\n",
      "     label     a1    a2    a3    a4   a5    a6    a7    a8    a9    a10   a11  \\\n",
      "0        1  14.23  1.71  2.43  15.6  127  2.80  3.06  0.28  2.29   5.64  1.04   \n",
      "1        1  13.20  1.78  2.14  11.2  100  2.65  2.76  0.26  1.28   4.38  1.05   \n",
      "2        1  13.16  2.36  2.67  18.6  101  2.80  3.24  0.30  2.81   5.68  1.03   \n",
      "3        1  14.37  1.95  2.50  16.8  113  3.85  3.49  0.24  2.18   7.80  0.86   \n",
      "4        1  13.24  2.59  2.87  21.0  118  2.80  2.69  0.39  1.82   4.32  1.04   \n",
      "..     ...    ...   ...   ...   ...  ...   ...   ...   ...   ...    ...   ...   \n",
      "173      3  13.71  5.65  2.45  20.5   95  1.68  0.61  0.52  1.06   7.70  0.64   \n",
      "174      3  13.40  3.91  2.48  23.0  102  1.80  0.75  0.43  1.41   7.30  0.70   \n",
      "175      3  13.27  4.28  2.26  20.0  120  1.59  0.69  0.43  1.35  10.20  0.59   \n",
      "176      3  13.17  2.59  2.37  20.0  120  1.65  0.68  0.53  1.46   9.30  0.60   \n",
      "177      3  14.13  4.10  2.74  24.5   96  2.05  0.76  0.56  1.35   9.20  0.61   \n",
      "\n",
      "      a12   a13  \n",
      "0    3.92  1065  \n",
      "1    3.40  1050  \n",
      "2    3.17  1185  \n",
      "3    3.45  1480  \n",
      "4    2.93   735  \n",
      "..    ...   ...  \n",
      "173  1.74   740  \n",
      "174  1.56   750  \n",
      "175  1.56   835  \n",
      "176  1.62   840  \n",
      "177  1.60   560  \n",
      "\n",
      "[178 rows x 14 columns]\n"
     ]
    }
   ],
   "source": [
    "#项目4-项目实施代码1\n",
    "\n",
    "import pandas as pd\n",
    "\n",
    "#读取数据并进行输出\n",
    "names=['label','a1','a2','a3','a4','a5','a6','a7','a8','a9','a10','a11','a12','a13']\n",
    "dataset=pd.read_csv(\"wine.data\",names=names)\n",
    "print(\"葡萄酒数据集如下：\")\n",
    "print(dataset)\n",
    "#分别提取数据集的特征变量与标签\n",
    "data=dataset.iloc[range(0,178),range(1,14)] #特征变量\n",
    "target=dataset.iloc[range(0,178),range(0,1)]#标签"
   ]
  },
  {
   "cell_type": "code",
   "execution_count": 5,
   "id": "420329a2",
   "metadata": {},
   "outputs": [
    {
     "name": "stdout",
     "output_type": "stream",
     "text": [
      "a 1 中异常值： []\n",
      "a 2 中异常值： [5.8 5.51 5.65]\n",
      "a 3 中异常值： [1.36 3.22 3.23]\n",
      "a 4 中异常值： [10.6 30.0 28.5 28.5]\n",
      "a 5 中异常值： [151.0 139.0 136.0 162.0]\n",
      "a 6 中异常值： []\n",
      "a 7 中异常值： []\n",
      "a 8 中异常值： []\n",
      "a 9 中异常值： [3.28 3.58]\n",
      "a 10 中异常值： [10.8 13.0 11.75 10.68]\n",
      "a 11 中异常值： [1.71]\n",
      "a 12 中异常值： []\n",
      "a 13 中异常值： []\n"
     ]
    },
    {
     "data": {
      "image/png": "[encoded data removed]",
      "text/plain": [
       "<Figure size 432x288 with 15 Axes>"
      ]
     },
     "metadata": {},
     "output_type": "display_data"
    }
   ],
   "source": [
    "import matplotlib.pyplot as plt\n",
    "#画箱形图\n",
    "plt.style.use('seaborn-darkgrid')\n",
    "plt.rcParams['axes.unicode_minus']=False \t#正常显示负号\n",
    "data.plot(kind='box',subplots=True,layout=(3,5),sharex=False,sharey=False)\n",
    "#查找异常数据并进行输出\n",
    "p=data.boxplot(return_type='dict')\t#返回字典类型数据\n",
    "for i in range(13):\n",
    "    y=p['fliers'][i].get_ydata()\t\t#查找异常数据\n",
    "    print('a',i+1,'中异常值：',y)\t\t#输出异常数据\n",
    "plt.show()"
   ]
  },
  {
   "cell_type": "code",
   "execution_count": null,
   "id": "1b87325e",
   "metadata": {},
   "outputs": [],
   "source": []
  },
  {
   "cell_type": "markdown",
   "id": "e8f69ee4",
   "metadata": {},
   "source": []
  },
  {
   "cell_type": "code",
   "execution_count": null,
   "id": "f7c2c467",
   "metadata": {},
   "outputs": [],
   "source": []
  }
 ],
 "metadata": {
  "kernelspec": {
   "display_name": "Python 3 (ipykernel)",
   "language": "python",
   "name": "python3"
  },
  "language_info": {
   "codemirror_mode": {
    "name": "ipython",
    "version": 3
   },
   "file_extension": ".py",
   "mimetype": "text/x-python",
   "name": "python",
   "nbconvert_exporter": "python",
   "pygments_lexer": "ipython3",
   "version": "3.9.12"
  }
 },
 "nbformat": 4,
 "nbformat_minor": 5
}
