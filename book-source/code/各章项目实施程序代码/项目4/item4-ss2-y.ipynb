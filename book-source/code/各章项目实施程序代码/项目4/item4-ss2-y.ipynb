{
 "cells": [
  {
   "cell_type": "code",
   "execution_count": 27,
   "id": "d4f3fdde",
   "metadata": {},
   "outputs": [
    {
     "name": "stdout",
     "output_type": "stream",
     "text": [
      "[[ 1.51861254 -0.56906261  0.26105088 ...  0.39346131  1.83381234\n",
      "   1.01300893]\n",
      " [ 0.24628963 -0.50234086 -0.90869274 ...  0.43875109  1.10735109\n",
      "   0.96524152]\n",
      " [ 0.19687903  0.05049647  1.22911457 ...  0.34817153  0.7860317\n",
      "   1.39514818]\n",
      " ...\n",
      " [ 0.33275817  1.88057869 -0.4246609  ... -1.64457872 -1.46320409\n",
      "   0.28057537]\n",
      " [ 0.20923168  0.26972507  0.01903496 ... -1.59928894 -1.37938164\n",
      "   0.29649784]\n",
      " [ 1.39508604  1.70900848  1.51146647 ... -1.55399916 -1.40732245\n",
      "  -0.59516041]]\n"
     ]
    }
   ],
   "source": [
    "#项目4-项目实施代码2\n",
    "\n",
    "import pandas as pd\n",
    "from sklearn import preprocessing\n",
    "\n",
    "#导入数据，分别提取数据集的特征变量与标签\n",
    "names=['label','a1','a2','a3','a4','a5','a6','a7','a8','a9','a10','a11','a12','a13']\n",
    "dataset=pd.read_csv(\"wine-clean.data\",names=names)\n",
    "data=dataset.iloc[range(0,178),range(1,14)] #特征变量\n",
    "target=dataset.iloc[range(0,178),range(0,1)].values.reshape(1,178)[0] #标签\n",
    "#使用z-score方法进行数据标准化处理\n",
    "cdata=preprocessing.StandardScaler().fit_transform(data)  #数据标准化处理\n",
    "print(cdata)"
   ]
  },
  {
   "cell_type": "code",
   "execution_count": 28,
   "id": "12ba88df",
   "metadata": {},
   "outputs": [
    {
     "data": {
      "image/png": "[encoded data removed]",
      "text/plain": [
       "<Figure size 432x288 with 1 Axes>"
      ]
     },
     "metadata": {
      "needs_background": "light"
     },
     "output_type": "display_data"
    }
   ],
   "source": [
    "#寻求最合适的k值\n",
    "#导入需要的库\n",
    "from sklearn.neighbors import KNeighborsClassifier   #导入k近邻算法模块\n",
    "from sklearn.model_selection import train_test_split #导入数据分割模块\n",
    "from sklearn.model_selection import cross_val_score  #导入交叉验证模块\n",
    "import matplotlib.pyplot as plt\n",
    "\n",
    "#将特征变量与标签分别赋值给x和y，并将数据集拆分为训练集与测试集\n",
    "x,y=cdata,target\n",
    "x_train,x_test,y_train,y_test=train_test_split(x,y,random_state=0) \n",
    "#k取不同值的情况下，模型的预测误差率计算\n",
    "k_range=range(1,15)         #设置k值的取值范围\n",
    "k_error=[]                  #保存预测误差率的数组\n",
    "for k in k_range:\n",
    "    model=KNeighborsClassifier(n_neighbors=k)\n",
    "    scores=cross_val_score(model,x,y,cv=5,scoring='accuracy')#5折交叉验证\n",
    "    k_error.append(1-scores.mean())              \n",
    "\n",
    "#画图，x轴表示k的取值，y轴表示预测误差率\n",
    "plt.rcParams['font.sans-serif']='Simhei'\n",
    "plt.plot(k_range,k_error,'r-')\n",
    "plt.xlabel('k的取值')\n",
    "plt.ylabel('预测误差率')\n",
    "plt.show()"
   ]
  },
  {
   "cell_type": "code",
   "execution_count": 29,
   "id": "2c793e59",
   "metadata": {},
   "outputs": [
    {
     "name": "stdout",
     "output_type": "stream",
     "text": [
      "模型预测准确率： 0.9555555555555556\n",
      "测试集的预测标签： [1 3 2 1 2 1 1 3 2 2 3 3 1 2 3 2 1 1 3 1 2 1 1 2 2 2 2 2 2 3 1 1 2 1 1 1 3\n",
      " 2 2 3 1 1 2 2 2]\n",
      "测试集的真实标签： [1 3 2 1 2 2 1 3 2 2 3 3 1 2 3 2 1 1 2 1 2 1 1 2 2 2 2 2 2 3 1 1 2 1 1 1 3\n",
      " 2 2 3 1 1 2 2 2]\n"
     ]
    }
   ],
   "source": [
    "from sklearn.metrics import accuracy_score\n",
    "#k=9时，训练模型\n",
    "model=KNeighborsClassifier(n_neighbors=9)\n",
    "model.fit(x_train,y_train)\n",
    "#对模型进行评估\n",
    "pred=model.predict(x_test)\n",
    "ac=accuracy_score(y_test,pred)\n",
    "print(\"模型预测准确率：\",ac)\n",
    "print(\"测试集的预测标签：\",pred)\n",
    "print(\"测试集的真实标签：\",y_test)"
   ]
  },
  {
   "cell_type": "code",
   "execution_count": null,
   "id": "b27874c5",
   "metadata": {},
   "outputs": [],
   "source": []
  },
  {
   "cell_type": "code",
   "execution_count": null,
   "id": "f345031d",
   "metadata": {},
   "outputs": [],
   "source": []
  },
  {
   "cell_type": "code",
   "execution_count": null,
   "id": "b908ca24",
   "metadata": {},
   "outputs": [],
   "source": []
  },
  {
   "cell_type": "code",
   "execution_count": null,
   "id": "13c38c27",
   "metadata": {},
   "outputs": [],
   "source": []
  }
 ],
 "metadata": {
  "kernelspec": {
   "display_name": "Python 3 (ipykernel)",
   "language": "python",
   "name": "python3"
  },
  "language_info": {
   "codemirror_mode": {
    "name": "ipython",
    "version": 3
   },
   "file_extension": ".py",
   "mimetype": "text/x-python",
   "name": "python",
   "nbconvert_exporter": "python",
   "pygments_lexer": "ipython3",
   "version": "3.9.12"
  }
 },
 "nbformat": 4,
 "nbformat_minor": 5
}
