{
 "cells": [
  {
   "cell_type": "code",
   "execution_count": 19,
   "id": "6ba0e6d1",
   "metadata": {},
   "outputs": [
    {
     "name": "stdout",
     "output_type": "stream",
     "text": [
      "电影评分数据集\n",
      "    FilmName1  FilmName2\n",
      "0        4.74       7.44\n",
      "1        5.88       7.52\n",
      "2        3.99       7.12\n",
      "3        3.55       7.55\n",
      "4        3.23       6.12\n",
      "..        ...        ...\n",
      "95       7.85       6.81\n",
      "96       9.17       5.13\n",
      "97       5.87       3.95\n",
      "98       8.41       5.02\n",
      "99       8.87       5.44\n",
      "\n",
      "[100 rows x 2 columns]\n"
     ]
    }
   ],
   "source": [
    "#项目9-项目实施代码\n",
    "#第一步：数据准备\n",
    "import pandas as pd\n",
    "#读取数据\n",
    "names=['FilmName1','FilmName2']\n",
    "dataset=pd.read_csv('FilmScore-data-y.txt',delimiter=',',names=names)\n",
    "print('电影评分数据集')\n",
    "print(dataset)"
   ]
  },
  {
   "cell_type": "code",
   "execution_count": 20,
   "id": "21b40dc1",
   "metadata": {},
   "outputs": [
    {
     "data": {
      "image/png": "[encoded data removed]",
      "text/plain": [
       "<Figure size 432x288 with 1 Axes>"
      ]
     },
     "metadata": {
      "needs_background": "light"
     },
     "output_type": "display_data"
    }
   ],
   "source": [
    "#第二步：数据可视化展示\n",
    "import matplotlib.pyplot as plt\n",
    "\n",
    "#提取电影评分数据\n",
    "data=dataset.iloc[range(0,100),range(0,2)].values \n",
    "#使用Matplotlib绘制样本散点图\n",
    "plt.scatter(data[:,0],data[:,1],s=30,c='g',marker='o')\n",
    "#设置坐标轴的名称并显示图形\n",
    "plt.rcParams['font.sans-serif']='Simhei'\n",
    "plt.xlabel('电影1评分')\n",
    "plt.ylabel('电影2评分')\n",
    "plt.show()"
   ]
  },
  {
   "cell_type": "code",
   "execution_count": 21,
   "id": "6f30c6bf",
   "metadata": {},
   "outputs": [
    {
     "name": "stdout",
     "output_type": "stream",
     "text": [
      "数据聚2类时，calinski_harabasz的值为：79.675122\n",
      "数据聚3类时，calinski_harabasz的值为：191.591511\n",
      "数据聚4类时，calinski_harabasz的值为：167.238037\n",
      "数据聚5类时，calinski_harabasz的值为：155.935027\n",
      "数据聚6类时，calinski_harabasz的值为：157.731186\n",
      "数据聚7类时，calinski_harabasz的值为：151.251458\n",
      "数据聚8类时，calinski_harabasz的值为：153.123040\n",
      "数据聚9类时，calinski_harabasz的值为：160.855747\n"
     ]
    }
   ],
   "source": [
    "#第三步：调节参数\n",
    "#寻找k均值聚类算法的最优簇数目值\n",
    "from sklearn.cluster import KMeans\n",
    "from sklearn.metrics import calinski_harabasz_score #导入calinski_harabasz指数评价模块\n",
    "\n",
    "for i in range(2,10):   \n",
    "    kmeans=KMeans(n_clusters = i,random_state=0)\n",
    "    kmeans.fit(data)\n",
    "    score_kmeans=calinski_harabasz_score(data,kmeans.labels_)\n",
    "    print('数据聚%d类时，calinski_harabasz的值为：%f'%(i,score_kmeans))  "
   ]
  },
  {
   "cell_type": "code",
   "execution_count": 22,
   "id": "43cc93a5",
   "metadata": {},
   "outputs": [
    {
     "name": "stdout",
     "output_type": "stream",
     "text": [
      "calinski_harabasz的最大值为191.591511，对应的eps值为1.20，min_samples值为6\n"
     ]
    }
   ],
   "source": [
    "#第三步：调节参数\n",
    "#寻找DBSCAN聚类算法中参数eps与参数min_samples的最优组合\n",
    "import numpy as np\n",
    "from sklearn.cluster import DBSCAN\n",
    "\n",
    "eps=np.arange(0.2,4,0.2) #eps参数从0.2开始到4，每隔0.2进行一次\n",
    "min_samples=np.arange(2,20,1)#min_samples参数取2到20的整数\n",
    "\n",
    "best_score=0\n",
    "best_score_eps=0\n",
    "best_score_min_samples=0\n",
    "\n",
    "#寻找最优参数组合\n",
    "for i in eps:  \n",
    "    for j in min_samples:\n",
    "        try:  #try语句捕获异常\n",
    "            db=DBSCAN(eps=i,min_samples=j).fit(data)\n",
    "            labels=db.labels_#DBSCAN模型预测的标签\n",
    "            k=calinski_harabasz_score(data,labels) #calinski_harabasz指数评价聚类的好坏，值越大越好\n",
    "            \n",
    "        except:\n",
    "            db='' #跳过计算calinski_harabasz值时，出错的模型\n",
    "        else:\n",
    "            if k>best_score:\n",
    "                best_score=k\n",
    "                best_score_eps=i\n",
    "                best_score_min_samples=j\n",
    "print('calinski_harabasz的最大值为%f，对应的eps值为%.2f，min_samples值为%d'%(best_score,best_score_eps,best_score_min_samples))"
   ]
  },
  {
   "cell_type": "code",
   "execution_count": 23,
   "id": "8134fd74",
   "metadata": {},
   "outputs": [
    {
     "name": "stdout",
     "output_type": "stream",
     "text": [
      "最终聚类中心为：\n",
      "[[7.27205882 4.08029412]\n",
      " [8.42944444 8.42027778]\n",
      " [3.949      8.18666667]]\n",
      "每类样本对应的类别标签为：\n",
      "[2 2 2 2 2 2 2 2 2 2 2 2 2 2 2 2 2 2 2 2 2 2 2 2 2 2 2 2 2 2 0 0 0 0 0 0 0\n",
      " 0 0 0 0 0 0 0 0 0 0 0 0 0 0 0 0 0 0 0 0 0 0 0 1 1 1 1 1 1 1 1 1 1 1 1 1 1\n",
      " 1 1 1 1 1 1 1 1 1 1 1 1 1 1 1 1 1 1 1 1 1 1 0 0 0 0]\n"
     ]
    }
   ],
   "source": [
    "#第四步：训练与评估模型\n",
    "#训练k均值聚类模型\n",
    "KMeans=KMeans(n_clusters=3,random_state=0)  \n",
    "KMeans.fit(data)\n",
    "\n",
    "clusterCenters=KMeans.cluster_centers_#获取最终聚类中心值\n",
    "labels_KMeans=KMeans.labels_#获取聚类标签值\n",
    "print(\"最终聚类中心为：\")\n",
    "print(clusterCenters)\n",
    "print(\"每类样本对应的类别标签为：\")\n",
    "print(labels_KMeans)"
   ]
  },
  {
   "cell_type": "code",
   "execution_count": 24,
   "id": "fc209ceb",
   "metadata": {},
   "outputs": [
    {
     "name": "stdout",
     "output_type": "stream",
     "text": [
      "每类样本对应的类别标签为：\n",
      "[2 1 2 2 2 2 2 2 2 2 2 2 2 2 2 2 2 2 2 2 2 2 2 2 2 2 2 2 2 2 0 0 0 0 0 0 0\n",
      " 0 0 0 0 0 0 0 0 0 0 0 0 0 0 0 0 0 0 0 0 0 0 0 1 1 1 1 1 1 1 1 1 1 1 1 1 1\n",
      " 1 1 1 1 1 1 1 1 1 1 1 1 1 1 1 1 1 1 1 1 1 1 0 0 0 0]\n"
     ]
    }
   ],
   "source": [
    "#第四步：训练与评估模型\n",
    "#训练凝聚层次聚类模型\n",
    "from sklearn.cluster import AgglomerativeClustering\n",
    "ac=AgglomerativeClustering(n_clusters=3)\n",
    "labels_ac=ac.fit_predict(data)\n",
    "print(\"每类样本对应的类别标签为：\")\n",
    "print(labels_ac)"
   ]
  },
  {
   "cell_type": "code",
   "execution_count": 25,
   "id": "3aa1dfef",
   "metadata": {},
   "outputs": [
    {
     "name": "stdout",
     "output_type": "stream",
     "text": [
      "每类样本对应的类别标签为：\n",
      "[0 0 0 0 0 0 0 0 0 0 0 0 0 0 0 0 0 0 0 0 0 0 0 0 0 0 0 0 0 0 1 1 1 1 1 1 1\n",
      " 1 1 1 1 1 1 1 1 1 1 1 1 1 1 1 1 1 1 1 1 1 1 1 2 2 2 2 2 2 2 2 2 2 2 2 2 2\n",
      " 2 2 2 2 2 2 2 2 2 2 2 2 2 2 2 2 2 2 2 2 2 2 1 1 1 1]\n"
     ]
    }
   ],
   "source": [
    "#第四步：训练与评估模型\n",
    "#训练DBSCAN聚类模型\n",
    "db=DBSCAN(eps=1.2,min_samples=6)\n",
    "db.fit(data)\n",
    "labels_db=db.labels_\n",
    "print(\"每类样本对应的类别标签为：\")\n",
    "print(labels_db)"
   ]
  },
  {
   "cell_type": "code",
   "execution_count": 26,
   "id": "4914db28",
   "metadata": {},
   "outputs": [
    {
     "name": "stdout",
     "output_type": "stream",
     "text": [
      "k均值聚类模型的calinski_harabasz值为：191.59151118025065\n",
      "凝聚层次聚类模型的calinski_harabasz值为：188.10292146791565\n",
      "DBSCAN聚类模型的calinski_harabasz值为：191.59151118025062\n"
     ]
    }
   ],
   "source": [
    "#第四步：训练与评估模型\n",
    "#分别对训练完成的3个模型进行评估\n",
    "names=['k均值','凝聚层次','DBSCAN']\n",
    "labels=[labels_KMeans,labels_ac,labels_db]\n",
    "\n",
    "for name,label in zip(names,labels):\n",
    "    score=calinski_harabasz_score(data,label)\n",
    "    print('%s聚类模型的calinski_harabasz值为：%s'%(name,score)) "
   ]
  },
  {
   "cell_type": "code",
   "execution_count": 27,
   "id": "52beebaa",
   "metadata": {},
   "outputs": [
    {
     "data": {
      "image/png": "[encoded data removed]",
      "text/plain": [
       "<Figure size 432x288 with 1 Axes>"
      ]
     },
     "metadata": {
      "needs_background": "light"
     },
     "output_type": "display_data"
    },
    {
     "data": {
      "image/png": "[encoded data removed]",
      "text/plain": [
       "<Figure size 432x288 with 1 Axes>"
      ]
     },
     "metadata": {
      "needs_background": "light"
     },
     "output_type": "display_data"
    },
    {
     "data": {
      "image/png": "[encoded data removed]",
      "text/plain": [
       "<Figure size 432x288 with 1 Axes>"
      ]
     },
     "metadata": {
      "needs_background": "light"
     },
     "output_type": "display_data"
    }
   ],
   "source": [
    "#第五步：显示聚类结果\n",
    "#使用Matplotlib绘制图像，显示各个模型的聚类结果\n",
    "colors=['g','r','c','y']\n",
    "markers=['o','x','+','v']\n",
    "for j in range(3):\n",
    "    #绘制聚类结果图\n",
    "    for i,l in enumerate(labels[j]):\n",
    "        plt.plot(data[i][0],data[i][1],color=colors[l],marker=markers[l])\n",
    "    if j==0:\n",
    "        #使用倒三角绘制k均值模型的聚类中心点\n",
    "        for i in range(3):\n",
    "            plt.plot(clusterCenters[i][0],clusterCenters[i][1],color=colors[3],marker=markers[3])\n",
    "    plt.rcParams['font.sans-serif']='Simhei'\n",
    "    plt.xlabel('电影1评分')\n",
    "    plt.ylabel('电影2评分')\n",
    "    plt.title('%s聚类模型'%names[j])\n",
    "    plt.show()"
   ]
  },
  {
   "cell_type": "code",
   "execution_count": null,
   "id": "9042222d",
   "metadata": {},
   "outputs": [],
   "source": []
  }
 ],
 "metadata": {
  "kernelspec": {
   "display_name": "Python 3 (ipykernel)",
   "language": "python",
   "name": "python3"
  },
  "language_info": {
   "codemirror_mode": {
    "name": "ipython",
    "version": 3
   },
   "file_extension": ".py",
   "mimetype": "text/x-python",
   "name": "python",
   "nbconvert_exporter": "python",
   "pygments_lexer": "ipython3",
   "version": "3.9.12"
  }
 },
 "nbformat": 4,
 "nbformat_minor": 5
}
