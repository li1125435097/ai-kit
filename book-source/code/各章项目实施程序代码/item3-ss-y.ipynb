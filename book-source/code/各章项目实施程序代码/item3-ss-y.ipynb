{
 "cells": [
  {
   "cell_type": "code",
   "execution_count": 15,
   "id": "e48b730a",
   "metadata": {},
   "outputs": [],
   "source": [
    "#项目3-项目实施代码\n",
    "\n",
    "#导入鸢尾花数据集\n",
    "from sklearn.datasets import load_iris\n",
    "from sklearn.model_selection import train_test_split\n",
    "\n",
    "\n",
    "#提取特征，划分数据集\n",
    "x,y=load_iris().data[:,2:4],load_iris().target    #提取花瓣长度与花瓣宽度作为特征，训练模型\n",
    "x_train,x_test,y_train,y_test=train_test_split(x,y,random_state=1,test_size=50) #将数据集拆分为训练集与测试集"
   ]
  },
  {
   "cell_type": "code",
   "execution_count": 16,
   "id": "c29025bd",
   "metadata": {},
   "outputs": [
    {
     "name": "stdout",
     "output_type": "stream",
     "text": [
      "模型预测准确率： 0.98\n"
     ]
    }
   ],
   "source": [
    "#导入逻辑回归模型与评估分类准确率的方法\n",
    "from sklearn.linear_model import LogisticRegression\n",
    "from sklearn.metrics import accuracy_score\n",
    "\n",
    "#定义与训练逻辑回归模型\n",
    "model=LogisticRegression()\t    #建立逻辑回归模型\n",
    "model.fit(x_train,y_train)\t\t#训练模型\n",
    "\n",
    "#模型评估\n",
    "ac=accuracy_score(y_test,model.predict(x_test))\n",
    "print(\"模型预测准确率：\",ac)"
   ]
  },
  {
   "cell_type": "code",
   "execution_count": 17,
   "id": "cc03bc3b",
   "metadata": {},
   "outputs": [
    {
     "data": {
      "image/png": "[encoded data removed]",
      "text/plain": [
       "<Figure size 432x288 with 1 Axes>"
      ]
     },
     "metadata": {
      "needs_background": "light"
     },
     "output_type": "display_data"
    }
   ],
   "source": [
    "#导入Matplotlib与NumPy库\n",
    "import matplotlib.pyplot as plt\n",
    "from matplotlib.colors import ListedColormap\n",
    "import numpy as np\n",
    "\n",
    "#绘制分类界面\n",
    "N,M=500,500                  #网格采样点的个数，采样点越多，分类界面图越精细\n",
    "t1=np.linspace(0,8,N)        #生成采样点的横坐标值\n",
    "t2=np.linspace(0,3,M)        #生成采样点的纵坐标值\n",
    "x1,x2=np.meshgrid(t1,t2)     #生成网格采样点\n",
    "x_new=np.stack((x1.flat,x2.flat),axis=1)  #将采样点作为测试点\n",
    "y_predict=model.predict(x_new)  #预测测试点的值\n",
    "y_hat=y_predict.reshape(x1.shape) #与x1设置相同的形状\n",
    "iris_cmap=ListedColormap([\"#ACC6C0\",\"#FF8080\",\"#A0A0FF\"])                   #设置分类界面的颜色\n",
    "plt.pcolormesh(x1,x2,y_hat,cmap=iris_cmap)                                    #绘制分类界面\n",
    "\n",
    "#绘制3种类别鸢尾花的样本点\n",
    "plt.scatter(x[y==0,0],x[y==0,1],s=30,c='g',marker='^')\t#绘制标签为0的样本点\n",
    "plt.scatter(x[y==1,0],x[y==1,1],s=30,c='r',marker='o')\t#绘制标签为1的样本点\n",
    "plt.scatter(x[y==2,0],x[y==2,1],s=30,c='b',marker='s')\t#绘制标签为2的样本点\n",
    "\n",
    "#设置坐标轴的名称并显示图形\n",
    "plt.rcParams['font.sans-serif']='Simhei'\t#中文文字设置为黑体\n",
    "plt.xlabel('花瓣长度')\t\t\t\t\t\t#图形横轴的标签名称\n",
    "plt.ylabel('花瓣宽度')\t\t\t\t\t\t#图形纵轴的标签名称\n",
    "plt.show()\t\t\t\t\t\t\t#显示图形\n"
   ]
  },
  {
   "cell_type": "code",
   "execution_count": null,
   "id": "0664483f",
   "metadata": {},
   "outputs": [],
   "source": []
  }
 ],
 "metadata": {
  "kernelspec": {
   "display_name": "Python 3 (ipykernel)",
   "language": "python",
   "name": "python3"
  },
  "language_info": {
   "codemirror_mode": {
    "name": "ipython",
    "version": 3
   },
   "file_extension": ".py",
   "mimetype": "text/x-python",
   "name": "python",
   "nbconvert_exporter": "python",
   "pygments_lexer": "ipython3",
   "version": "3.9.12"
  }
 },
 "nbformat": 4,
 "nbformat_minor": 5
}
