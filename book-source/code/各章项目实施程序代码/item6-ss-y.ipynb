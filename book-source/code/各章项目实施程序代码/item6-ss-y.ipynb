{
 "cells": [
  {
   "cell_type": "code",
   "execution_count": 2,
   "id": "19035fec",
   "metadata": {},
   "outputs": [
    {
     "name": "stdout",
     "output_type": "stream",
     "text": [
      "客户信息数据集\n",
      "    age  height  weight gender\n",
      "0    21     163      60      M\n",
      "1    22     164      56      M\n",
      "2    21     170      50      M\n",
      "3    23     168      56      M\n",
      "4    21     169      60      M\n",
      "..  ...     ...     ...    ...\n",
      "95   24     192      73      F\n",
      "96   25     187      74      F\n",
      "97   20     178      65      F\n",
      "98   23     172      76      F\n",
      "99   25     173      78      F\n",
      "\n",
      "[100 rows x 4 columns]\n"
     ]
    }
   ],
   "source": [
    "#项目6-项目实施代码\n",
    "import pandas as pd\n",
    "\n",
    "#读取数据\n",
    "names=['age','height','weight','gender']\n",
    "dataset=pd.read_csv('gender-data-y.txt',delimiter=',',names=names)\n",
    "print('客户信息数据集')\n",
    "print(dataset)"
   ]
  },
  {
   "cell_type": "code",
   "execution_count": 3,
   "id": "57aa4f19",
   "metadata": {},
   "outputs": [
    {
     "name": "stdout",
     "output_type": "stream",
     "text": [
      "处理后的客户信息数据集\n",
      "    age  height  weight gender  label\n",
      "0    21   163.0    60.0      M      1\n",
      "1    22   164.0    56.0      M      1\n",
      "2    21   170.0    50.0      M      1\n",
      "3    23   168.0    56.0      M      1\n",
      "4    21   169.0    60.0      M      1\n",
      "..  ...     ...     ...    ...    ...\n",
      "95   24   192.0    73.0      F      0\n",
      "96   25   187.0    74.0      F      0\n",
      "97   20   178.0    65.0      F      0\n",
      "98   23   172.0    76.0      F      0\n",
      "99   25   173.0    78.0      F      0\n",
      "\n",
      "[100 rows x 5 columns]\n"
     ]
    }
   ],
   "source": [
    "#数据预处理\n",
    "from sklearn import preprocessing\n",
    "#数据类型转换（将身高和体重数据转换为浮点型数据）\n",
    "dataset['height']=dataset['height'].astype(float)\n",
    "dataset['weight']=dataset['weight'].astype(float)\n",
    "#对\"性别\"列进行数值化处理\n",
    "le=preprocessing.LabelEncoder()#标签编码\n",
    "dataset['label']=le.fit_transform(dataset['gender']) #转换为数值标签\n",
    "print('处理后的客户信息数据集')\n",
    "print(dataset)"
   ]
  },
  {
   "cell_type": "code",
   "execution_count": 4,
   "id": "032276ef",
   "metadata": {},
   "outputs": [
    {
     "data": {
      "image/png": "[encoded data removed]",
      "text/plain": [
       "<Figure size 432x288 with 1 Axes>"
      ]
     },
     "metadata": {
      "needs_background": "light"
     },
     "output_type": "display_data"
    }
   ],
   "source": [
    "#数据集可视化\n",
    "import matplotlib.pyplot as plt\n",
    "\n",
    "data=dataset.iloc[range(0,100),range(1,3)].values  #提取身高和体重数据\n",
    "target=dataset.iloc[range(0,100),range(4,5)].values.reshape(1,100)[0]#提取标签值\n",
    "#绘制散点图\n",
    "plt.scatter(data[target==0,0],data[target==0,1],s=60,c='r',marker='o')\t#绘制标签为0的样本点\n",
    "plt.scatter(data[target==1,0],data[target==1,1],s=60,c='g',marker='^')\t#绘制标签为1的样本点\n",
    "#设置坐标轴的名称并显示图形\n",
    "plt.rcParams['font.sans-serif']='Simhei'\n",
    "plt.xlabel('身高/cm')\n",
    "plt.ylabel('体重/kg')\n",
    "plt.show()"
   ]
  },
  {
   "cell_type": "code",
   "execution_count": 5,
   "id": "0cf6f321",
   "metadata": {},
   "outputs": [
    {
     "data": {
      "image/png": "[encoded data removed]",
      "text/plain": [
       "<Figure size 432x288 with 1 Axes>"
      ]
     },
     "metadata": {
      "needs_background": "light"
     },
     "output_type": "display_data"
    }
   ],
   "source": [
    "#确定决策树的最佳深度值\n",
    "from sklearn.model_selection import train_test_split\n",
    "import numpy as np\n",
    "from sklearn.tree import DecisionTreeClassifier\n",
    "from sklearn.metrics import accuracy_score\n",
    "#划分数据集\n",
    "x,y=data,target\n",
    "x_train,x_test,y_train,y_test=train_test_split(x,y,test_size=30,random_state=0)\n",
    "#决策树深度与模型预测误差率计算\n",
    "depth=np.arange(1,15)\n",
    "err_list=[]\n",
    "for i in depth:\n",
    "    model=DecisionTreeClassifier(criterion='entropy',max_depth=i)\n",
    "    model.fit(x_train,y_train)\n",
    "    pred=model.predict(x_test)\n",
    "    ac=accuracy_score(y_test,pred)\n",
    "    err=1-ac\n",
    "    err_list.append(err)\n",
    "#绘制决策树深度与模型预测误差率图形\n",
    "plt.plot(depth,err_list,'ro-')\n",
    "plt.rcParams['font.sans-serif']='Simhei'\n",
    "plt.xlabel('决策树深度')\n",
    "plt.ylabel('预测误差率')\n",
    "plt.show()"
   ]
  },
  {
   "cell_type": "code",
   "execution_count": 6,
   "id": "50dc365b",
   "metadata": {},
   "outputs": [
    {
     "name": "stdout",
     "output_type": "stream",
     "text": [
      "模型评估报告：\n",
      "              precision    recall  f1-score   support\n",
      "\n",
      "           0       1.00      0.73      0.85        15\n",
      "           1       0.79      1.00      0.88        15\n",
      "\n",
      "    accuracy                           0.87        30\n",
      "   macro avg       0.89      0.87      0.86        30\n",
      "weighted avg       0.89      0.87      0.86        30\n",
      "\n"
     ]
    }
   ],
   "source": [
    "#训练与评估模型\n",
    "from sklearn.metrics import classification_report\n",
    "#决策树深度取值为5时，训练模型\n",
    "model=DecisionTreeClassifier(criterion='entropy',max_depth=5)\n",
    "model.fit(x_train,y_train)\n",
    "#对模型进行评估，并输出评估报告\n",
    "pred=model.predict(x_test)\n",
    "re=classification_report(y_test,pred)\n",
    "print('模型评估报告：')\n",
    "print(re)"
   ]
  },
  {
   "cell_type": "code",
   "execution_count": 7,
   "id": "fbbfa0a3",
   "metadata": {},
   "outputs": [
    {
     "data": {
      "image/png": "[encoded data removed]",
      "text/plain": [
       "<Figure size 432x288 with 1 Axes>"
      ]
     },
     "metadata": {
      "needs_background": "light"
     },
     "output_type": "display_data"
    }
   ],
   "source": [
    "#绘制可视化图形，显示分类结果\n",
    "from matplotlib.colors import ListedColormap\n",
    "\n",
    "#绘制分类界面\n",
    "N,M=500,500                  #网格采样点的个数\n",
    "t1=np.linspace(140,195,N)        #生成采样点的横坐标值\n",
    "t2=np.linspace(30,90,M)        #生成采样点的纵坐标值\n",
    "x1,x2=np.meshgrid(t1,t2)     #生成网格采样点\n",
    "x_new=np.stack((x1.flat,x2.flat),axis=1)  #将采样点作为测试点\n",
    "y_predict=model.predict(x_new)  #预测测试点的值\n",
    "y_hat=y_predict.reshape(x1.shape) #与x1设置相同的形状\n",
    "iris_cmap=ListedColormap([\"#ACC6C0\",\"#FF8080\"])                   #设置分类界面的颜色\n",
    "plt.pcolormesh(x1,x2,y_hat,cmap=iris_cmap)                       #绘制分类界面\n",
    "\n",
    "#绘制两个类别的样本数据点\n",
    "plt.scatter(x[y==0,0],x[y==0,1],s=60,c='r',marker='o')\t#绘制标签为0的样本点\n",
    "plt.scatter(x[y==1,0],x[y==1,1],s=60,c='g',marker='^')\t#绘制标签为1的样本点\n",
    "\n",
    "#设置坐标轴的名称并显示图形\n",
    "plt.rcParams['font.sans-serif']='Simhei'\n",
    "plt.xlabel('身高/cm')\n",
    "plt.ylabel('体重/kg')\n",
    "plt.show()"
   ]
  },
  {
   "cell_type": "code",
   "execution_count": null,
   "id": "e81b8ddd",
   "metadata": {},
   "outputs": [],
   "source": []
  }
 ],
 "metadata": {
  "kernelspec": {
   "display_name": "Python 3 (ipykernel)",
   "language": "python",
   "name": "python3"
  },
  "language_info": {
   "codemirror_mode": {
    "name": "ipython",
    "version": 3
   },
   "file_extension": ".py",
   "mimetype": "text/x-python",
   "name": "python",
   "nbconvert_exporter": "python",
   "pygments_lexer": "ipython3",
   "version": "3.9.12"
  }
 },
 "nbformat": 4,
 "nbformat_minor": 5
}
