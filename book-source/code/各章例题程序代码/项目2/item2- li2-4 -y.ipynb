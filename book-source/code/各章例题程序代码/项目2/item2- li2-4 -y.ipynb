{
 "cells": [
  {
   "cell_type": "code",
   "execution_count": 2,
   "id": "83665492",
   "metadata": {},
   "outputs": [
    {
     "name": "stdout",
     "output_type": "stream",
     "text": [
      "w= [   11.5106203   -282.51347161   534.20455671   401.73142674\n",
      " -1043.89718398   634.92464089   186.43262636   204.93373199\n",
      "   762.47149733    91.9460394 ] b= 152.5624877455247\n"
     ]
    }
   ],
   "source": [
    "#项目2-例2-4代码\n",
    "\n",
    "#训练模型\n",
    "#导入糖尿病数据集、线性回归模型及划分样本的方法\n",
    "from sklearn.linear_model import LinearRegression          #导入线性回归模型\n",
    "from sklearn.datasets import load_diabetes                 #导入糖尿病数据集\n",
    "from sklearn.model_selection import train_test_split       #导入划分样本的方法\n",
    "\n",
    "#将数据集划分为训练集和测试集\n",
    "x,y=load_diabetes().data,load_diabetes().target\n",
    "x_train,x_test,y_train,y_test=train_test_split(x,y,random_state=8)\n",
    "\n",
    "#训练模型\n",
    "model=LinearRegression()\n",
    "model.fit(x_train,y_train)\n",
    "\n",
    "#求解线性回归方程参数\n",
    "print(\"w=\",model.coef_,\"b=\",model.intercept_)"
   ]
  },
  {
   "cell_type": "code",
   "execution_count": 3,
   "id": "f9648d58",
   "metadata": {},
   "outputs": [
    {
     "name": "stdout",
     "output_type": "stream",
     "text": [
      "模型在训练集上的预测准确率为： 0.5303814759709331\n",
      "模型在测试集上的预测准确率为： 0.4593440496691642\n"
     ]
    }
   ],
   "source": [
    "#评估模型\n",
    "#计算模型的预测准确率\n",
    "r21=model.score(x_train,y_train)\t#计算模型在训练集上的预测准确率\n",
    "r22=model.score(x_test,y_test)\t#计算模型在测试集上的预测准确率\n",
    "\n",
    "#输出模型的预测正确率\n",
    "print(\"模型在训练集上的预测准确率为：\",r21)            #输出模型在训练集上的预测准确率\n",
    "print(\"模型在测试集上的预测准确率为：\",r22)            #输出模型在测试集上的预测准确率"
   ]
  },
  {
   "cell_type": "code",
   "execution_count": null,
   "id": "fe53fd86",
   "metadata": {},
   "outputs": [],
   "source": []
  },
  {
   "cell_type": "code",
   "execution_count": null,
   "id": "ff998b38",
   "metadata": {},
   "outputs": [],
   "source": []
  },
  {
   "cell_type": "code",
   "execution_count": null,
   "id": "4ff00895",
   "metadata": {},
   "outputs": [],
   "source": []
  }
 ],
 "metadata": {
  "kernelspec": {
   "display_name": "Python 3 (ipykernel)",
   "language": "python",
   "name": "python3"
  },
  "language_info": {
   "codemirror_mode": {
    "name": "ipython",
    "version": 3
   },
   "file_extension": ".py",
   "mimetype": "text/x-python",
   "name": "python",
   "nbconvert_exporter": "python",
   "pygments_lexer": "ipython3",
   "version": "3.9.12"
  }
 },
 "nbformat": 4,
 "nbformat_minor": 5
}
