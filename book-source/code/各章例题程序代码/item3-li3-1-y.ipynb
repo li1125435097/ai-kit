{
 "cells": [
  {
   "cell_type": "code",
   "execution_count": 2,
   "id": "f027d446",
   "metadata": {},
   "outputs": [
    {
     "name": "stdout",
     "output_type": "stream",
     "text": [
      "w= [[-0.7119552   0.62359736]] b= [0.5919836]\n"
     ]
    }
   ],
   "source": [
    "#项目3-例3-1代码\n",
    "\n",
    "#训练模型代码\n",
    "#导入numpy与逻辑回归模型\n",
    "import numpy as np\n",
    "from sklearn.linear_model import LogisticRegression\n",
    "\n",
    "#输入训练集数据\n",
    "x=np.array([[2,3],[3,4],[6,5],[4,4],[3,2],[4,7],[5,4],[4,3],[7,5],[3,3],[4,4],[5,2]])\t#特征变量：辣椒酱辣度与保质期\n",
    "y=np.array([[1],[1],[1],[1],[1],[1],[0],[0],[0],[0],[0],[0]])\t#顾客是否购买，1表示购买，0表示不购买\n",
    "\n",
    "#建立模型，训练模型\n",
    "model=LogisticRegression()\t#建立逻辑回归模型\n",
    "model.fit(x,y.ravel())\t\t\t\t#训练模型\n",
    "\n",
    "#求解逻辑回归方程参数\n",
    "print(\"w=\",model.coef_,\"b=\",model.intercept_)"
   ]
  },
  {
   "cell_type": "code",
   "execution_count": 3,
   "id": "83e7f0e5",
   "metadata": {},
   "outputs": [
    {
     "name": "stdout",
     "output_type": "stream",
     "text": [
      "模型预测准确率为： 0.75\n"
     ]
    }
   ],
   "source": [
    "#输入测试集\n",
    "x_test=np.array([[3,5],[2,4],[5,6],[3,6],[3,3],[4,5],[4,2],[5,5],[6,7],[5,3],[6,4],[6,6]])\t#特征变量：辣椒酱辣度与保质期\n",
    "y_test=np.array([[1],[1],[1],[1],[1],[1],[0],[0],[0],[0],[0],[0]])\t#顾客是否购买，1表示购买，0表示不购买\n",
    "\n",
    "#模型准确率评估\n",
    "r2=model.score(x_test,y_test)     #计算模型的预测准确率\n",
    "print(\"模型预测准确率为：\",r2)    #输出模型的预测准确率\n"
   ]
  },
  {
   "cell_type": "code",
   "execution_count": 4,
   "id": "5da09545",
   "metadata": {},
   "outputs": [
    {
     "name": "stdout",
     "output_type": "stream",
     "text": [
      "新样本的预测标签为： 1\n"
     ]
    }
   ],
   "source": [
    "#预测新数据代码\n",
    "a=model.predict([[3,7]])\n",
    "print(\"新样本的预测标签为：\",a[0])"
   ]
  },
  {
   "cell_type": "code",
   "execution_count": null,
   "id": "21cde495",
   "metadata": {},
   "outputs": [],
   "source": []
  }
 ],
 "metadata": {
  "kernelspec": {
   "display_name": "Python 3 (ipykernel)",
   "language": "python",
   "name": "python3"
  },
  "language_info": {
   "codemirror_mode": {
    "name": "ipython",
    "version": 3
   },
   "file_extension": ".py",
   "mimetype": "text/x-python",
   "name": "python",
   "nbconvert_exporter": "python",
   "pygments_lexer": "ipython3",
   "version": "3.9.12"
  }
 },
 "nbformat": 4,
 "nbformat_minor": 5
}
