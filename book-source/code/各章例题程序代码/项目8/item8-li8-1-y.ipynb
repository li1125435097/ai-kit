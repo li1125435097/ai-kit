{
 "cells": [
  {
   "cell_type": "code",
   "execution_count": 1,
   "id": "f2e83e37",
   "metadata": {},
   "outputs": [
    {
     "data": {
      "image/png": "[encoded data removed]",
      "text/plain": [
       "<Figure size 432x288 with 1 Axes>"
      ]
     },
     "metadata": {
      "needs_background": "light"
     },
     "output_type": "display_data"
    }
   ],
   "source": [
    "#项目8-例8-1代码\n",
    "from sklearn.datasets import load_iris\n",
    "from sklearn.model_selection import train_test_split\n",
    "from sklearn.ensemble import BaggingClassifier\n",
    "from sklearn.neighbors import KNeighborsClassifier\n",
    "from sklearn.metrics import accuracy_score\n",
    "from sklearn.model_selection import cross_val_score\n",
    "import matplotlib.pyplot as plt\n",
    "\n",
    "\n",
    "#拆分数据集\n",
    "x,y=load_iris().data,load_iris().target   \n",
    "x_train,x_test,y_train,y_test=train_test_split(x,y,random_state=0,test_size=0.5)\n",
    "\n",
    "#k取不同值的情况下，模型的预测误差率计算\n",
    "k_range=range(1,15)         #设置k值的取值范围\n",
    "k_error=[]                  #k_error用于保存预测误差率数据\n",
    "for k in k_range:\n",
    "    model=KNeighborsClassifier(n_neighbors=k)\n",
    "    scores=cross_val_score(model,x,y,cv=5,scoring='accuracy')#5折交叉验证\n",
    "    k_error.append(1-scores.mean())              \n",
    "\n",
    "#画图，x轴表示k的取值，y轴表示预测误差率\n",
    "plt.rcParams['font.sans-serif']='Simhei'\n",
    "plt.plot(k_range,k_error,'r-')\n",
    "plt.xlabel('k的取值')\n",
    "plt.ylabel('预测误差率')\n",
    "plt.show()"
   ]
  },
  {
   "cell_type": "code",
   "execution_count": 2,
   "id": "8ba3a800",
   "metadata": {},
   "outputs": [
    {
     "name": "stdout",
     "output_type": "stream",
     "text": [
      "k近邻模型预测准确率： 0.9333333333333333\n",
      "基于k近邻算法的Bagging模型的预测准确率： 0.9466666666666667\n"
     ]
    }
   ],
   "source": [
    "#定义模型\n",
    "kNNmodel=KNeighborsClassifier(6) #k近邻模型\n",
    "Baggingmodel=BaggingClassifier(KNeighborsClassifier(6),n_estimators=130,max_samples=0.4,max_features=4,random_state=1)#Bagging模型\n",
    "\n",
    "#训练模型\n",
    "kNNmodel.fit(x_train,y_train)\n",
    "Baggingmodel.fit(x_train,y_train)\n",
    "#评估模型\n",
    "kNN_pre=kNNmodel.predict(x_test)\n",
    "kNN_ac=accuracy_score(y_test,kNN_pre)\n",
    "print(\"k近邻模型预测准确率：\",kNN_ac)\n",
    "Bagging_pre=Baggingmodel.predict(x_test)\n",
    "Bagging_ac=accuracy_score(y_test,Bagging_pre)\n",
    "print(\"基于k近邻算法的Bagging模型的预测准确率：\",Bagging_ac)"
   ]
  },
  {
   "cell_type": "code",
   "execution_count": null,
   "id": "12019385",
   "metadata": {},
   "outputs": [],
   "source": []
  },
  {
   "cell_type": "code",
   "execution_count": null,
   "id": "370adc60",
   "metadata": {},
   "outputs": [],
   "source": []
  }
 ],
 "metadata": {
  "kernelspec": {
   "display_name": "Python 3 (ipykernel)",
   "language": "python",
   "name": "python3"
  },
  "language_info": {
   "codemirror_mode": {
    "name": "ipython",
    "version": 3
   },
   "file_extension": ".py",
   "mimetype": "text/x-python",
   "name": "python",
   "nbconvert_exporter": "python",
   "pygments_lexer": "ipython3",
   "version": "3.9.12"
  }
 },
 "nbformat": 4,
 "nbformat_minor": 5
}
