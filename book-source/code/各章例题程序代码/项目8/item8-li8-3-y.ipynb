{
 "cells": [
  {
   "cell_type": "code",
   "execution_count": 1,
   "id": "d7b70f71",
   "metadata": {},
   "outputs": [
    {
     "name": "stdout",
     "output_type": "stream",
     "text": [
      "最优参数值为：{'learning_rate': 0.005, 'n_estimators': 40}\n",
      "最优参数值对应模型的预测准确率为：0.960000\n"
     ]
    }
   ],
   "source": [
    "#项目8-例8-3代码\n",
    "from sklearn.datasets import load_iris\n",
    "from sklearn.model_selection import train_test_split\n",
    "from sklearn.ensemble import AdaBoostClassifier  #导入AdaBoost分类模块\n",
    "from sklearn.tree import DecisionTreeClassifier\n",
    "from sklearn.metrics import accuracy_score\n",
    "from sklearn.model_selection import GridSearchCV\n",
    "from sklearn.model_selection import StratifiedShuffleSplit  \n",
    "\n",
    "#拆分数据集\n",
    "x,y=load_iris().data,load_iris().target   \n",
    "x_train,x_test,y_train,y_test=train_test_split(x,y,random_state=0,test_size=50)\n",
    "\n",
    "param_grid={'n_estimators':[10,20,30,40,50,60,70,80,90,100],'learning_rate':[0.0001,0.0005,0.001,0.005,0.01,0.05,0.1,0.5,0.6,0.7,0.8,0.9]}\n",
    "cv=StratifiedShuffleSplit(n_splits=5,test_size=0.3,random_state=420)  #对样本进行分层抽样\n",
    "grid=GridSearchCV(AdaBoostClassifier(DecisionTreeClassifier(criterion='gini',max_depth=3),random_state=0),param_grid=param_grid,cv=cv) \n",
    "grid.fit(x_train,y_train)\n",
    "\n",
    "model=grid.best_estimator_  #获取最优模型\n",
    "pred=model.predict(x_test)\n",
    "ac=accuracy_score(y_test,pred)\n",
    "print(\"最优参数值为：%s\"%grid.best_params_)\n",
    "print(\"最优参数值对应模型的预测准确率为：%f\"%ac)"
   ]
  },
  {
   "cell_type": "code",
   "execution_count": null,
   "id": "eea332c3",
   "metadata": {},
   "outputs": [],
   "source": []
  }
 ],
 "metadata": {
  "kernelspec": {
   "display_name": "Python 3 (ipykernel)",
   "language": "python",
   "name": "python3"
  },
  "language_info": {
   "codemirror_mode": {
    "name": "ipython",
    "version": 3
   },
   "file_extension": ".py",
   "mimetype": "text/x-python",
   "name": "python",
   "nbconvert_exporter": "python",
   "pygments_lexer": "ipython3",
   "version": "3.9.12"
  }
 },
 "nbformat": 4,
 "nbformat_minor": 5
}
