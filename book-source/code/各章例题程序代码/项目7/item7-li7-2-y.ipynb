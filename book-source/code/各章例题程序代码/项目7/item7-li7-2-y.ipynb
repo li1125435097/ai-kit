{
 "cells": [
  {
   "cell_type": "code",
   "execution_count": 1,
   "id": "e27c36e3",
   "metadata": {},
   "outputs": [],
   "source": [
    "#项目7-例7-2代码\n",
    "#数据准备\n",
    "from sklearn.datasets import load_breast_cancer #导入肺癌数据集\n",
    "from sklearn.svm import SVC     #导入支持向量机分类模块\n",
    "from sklearn.model_selection import train_test_split\n",
    "import numpy as np\n",
    "from sklearn.preprocessing import StandardScaler\n",
    "\n",
    "x,y=load_breast_cancer().data,load_breast_cancer().target \n",
    "x=StandardScaler().fit_transform(x)#数据标准化处理"
   ]
  },
  {
   "cell_type": "code",
   "execution_count": 2,
   "id": "a5288e62",
   "metadata": {},
   "outputs": [
    {
     "name": "stdout",
     "output_type": "stream",
     "text": [
      "最优参数值为：{'coef0': 0.0, 'gamma': 0.18329807108324375}\n",
      "选取该参数值时，模型的预测准确率为：0.969591\n"
     ]
    }
   ],
   "source": [
    "#使用网格搜索法确定最优的参数值\n",
    "from sklearn.model_selection import StratifiedShuffleSplit  #分层抽样\n",
    "from sklearn.model_selection import GridSearchCV            #网格搜索\n",
    "\n",
    "gamma_range=np.logspace(-10,1,20)\n",
    "coef0_range=np.linspace(0,5,10)\n",
    "param_grid=dict(gamma=gamma_range,coef0=coef0_range)\n",
    "cv=StratifiedShuffleSplit(n_splits=5,test_size=0.3,random_state=420)  #对样本进行分层抽样\n",
    "grid=GridSearchCV(SVC(kernel=\"poly\",degree=1),param_grid=param_grid,cv=cv) #使用网格搜索法寻找参数的最优值\n",
    "grid.fit(x,y)\n",
    "print(\"最优参数值为：%s\"%grid.best_params_)\n",
    "print(\"选取该参数值时，模型的预测准确率为：%f\"%grid.best_score_)"
   ]
  },
  {
   "cell_type": "code",
   "execution_count": null,
   "id": "d98c96a8",
   "metadata": {},
   "outputs": [],
   "source": []
  }
 ],
 "metadata": {
  "kernelspec": {
   "display_name": "Python 3 (ipykernel)",
   "language": "python",
   "name": "python3"
  },
  "language_info": {
   "codemirror_mode": {
    "name": "ipython",
    "version": 3
   },
   "file_extension": ".py",
   "mimetype": "text/x-python",
   "name": "python",
   "nbconvert_exporter": "python",
   "pygments_lexer": "ipython3",
   "version": "3.9.12"
  }
 },
 "nbformat": 4,
 "nbformat_minor": 5
}
