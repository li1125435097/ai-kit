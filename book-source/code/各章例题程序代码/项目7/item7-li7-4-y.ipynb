{
 "cells": [
  {
   "cell_type": "code",
   "execution_count": 1,
   "id": "4132510c",
   "metadata": {},
   "outputs": [],
   "source": [
    "#项目7-例7-4代码\n",
    "#数据准备\n",
    "from sklearn.datasets import load_breast_cancer #导入肺癌数据集\n",
    "from sklearn.svm import SVC     #导入支持向量机分类模块\n",
    "from sklearn.model_selection import train_test_split\n",
    "import numpy as np\n",
    "#import pandas as pd\n",
    "from sklearn.preprocessing import StandardScaler\n",
    "\n",
    "x,y=load_breast_cancer().data,load_breast_cancer().target \n",
    "x=StandardScaler().fit_transform(x)#数据标准化处理"
   ]
  },
  {
   "cell_type": "code",
   "execution_count": 2,
   "id": "8d3f5773",
   "metadata": {},
   "outputs": [
    {
     "data": {
      "image/png": "[encoded data removed]",
      "text/plain": [
       "<Figure size 432x288 with 1 Axes>"
      ]
     },
     "metadata": {
      "needs_background": "light"
     },
     "output_type": "display_data"
    },
    {
     "name": "stdout",
     "output_type": "stream",
     "text": [
      "模型的最优C值为：1.2340816326530613\n",
      "模型选取该参数时的预测准确率为：0.976608\n"
     ]
    }
   ],
   "source": [
    "#调节线性核函数的C值\n",
    "from sklearn.metrics import accuracy_score\n",
    "import matplotlib.pyplot as plt\n",
    "\n",
    "#分割数据集\n",
    "x_train,x_test,y_train,y_test=train_test_split(x,y,test_size=0.3,random_state=420)\n",
    "\n",
    "score=[]\n",
    "C_range=np.linspace(0.01,30,50)\n",
    "for i in C_range:\n",
    "    model=SVC(kernel='linear',C=i)\n",
    "    model.fit(x_train,y_train)\n",
    "    pred=model.predict(x_test)\n",
    "    ac=accuracy_score(y_test,pred)\n",
    "    score.append(ac)\n",
    "#画曲线图，横轴为C值，纵轴为对应模型的预测准确率\n",
    "plt.plot(C_range,score)\n",
    "plt.show()\n",
    "#输出模型的最大预测准确率与对应的C值\n",
    "print(\"模型的最优C值为：%s\"%C_range[score.index(max(score))])\n",
    "print(\"模型选取该参数时的预测准确率为：%f\"%max(score))"
   ]
  },
  {
   "cell_type": "code",
   "execution_count": 3,
   "id": "4223072e",
   "metadata": {},
   "outputs": [
    {
     "data": {
      "image/png": "[encoded data removed]",
      "text/plain": [
       "<Figure size 432x288 with 1 Axes>"
      ]
     },
     "metadata": {
      "needs_background": "light"
     },
     "output_type": "display_data"
    },
    {
     "name": "stdout",
     "output_type": "stream",
     "text": [
      "模型的最优C值为：6.7424489795918365\n",
      "模型选取该参数时的预测准确率为：0.982456\n"
     ]
    }
   ],
   "source": [
    "#调节高斯径向基核函数的C值\n",
    "from sklearn.metrics import accuracy_score\n",
    "import matplotlib.pyplot as plt\n",
    "\n",
    "#分割数据集\n",
    "x_train,x_test,y_train,y_test=train_test_split(x,y,test_size=0.3,random_state=420)\n",
    "\n",
    "score=[]\n",
    "C_range=np.linspace(0.01,30,50)\n",
    "for i in C_range:\n",
    "    model=SVC(kernel='rbf',C=i,gamma=0.01207)\n",
    "    model.fit(x_train,y_train)\n",
    "    pred=model.predict(x_test)\n",
    "    ac=accuracy_score(y_test,pred)\n",
    "    score.append(ac)\n",
    "#画曲线图，横轴为C值，纵轴为对应模型的预测准确率\n",
    "plt.plot(C_range,score)\n",
    "plt.show()\n",
    "#输出模型的最大预测准确率与对应的C值\n",
    "print(\"模型的最优C值为：%s\"%C_range[score.index(max(score))])\n",
    "print(\"模型选取该参数时的预测准确率为：%f\"%max(score))"
   ]
  },
  {
   "cell_type": "code",
   "execution_count": null,
   "id": "9626a679",
   "metadata": {},
   "outputs": [],
   "source": []
  }
 ],
 "metadata": {
  "kernelspec": {
   "display_name": "Python 3 (ipykernel)",
   "language": "python",
   "name": "python3"
  },
  "language_info": {
   "codemirror_mode": {
    "name": "ipython",
    "version": 3
   },
   "file_extension": ".py",
   "mimetype": "text/x-python",
   "name": "python",
   "nbconvert_exporter": "python",
   "pygments_lexer": "ipython3",
   "version": "3.9.12"
  }
 },
 "nbformat": 4,
 "nbformat_minor": 5
}
