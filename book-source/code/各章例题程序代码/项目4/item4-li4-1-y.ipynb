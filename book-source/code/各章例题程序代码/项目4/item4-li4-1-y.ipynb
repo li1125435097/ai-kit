{
 "cells": [
  {
   "cell_type": "code",
   "execution_count": 25,
   "id": "87311440",
   "metadata": {},
   "outputs": [
    {
     "data": {
      "image/png": "[encoded data removed]",
      "text/plain": [
       "<Figure size 432x288 with 1 Axes>"
      ]
     },
     "metadata": {
      "needs_background": "light"
     },
     "output_type": "display_data"
    }
   ],
   "source": [
    "#项目4-例4-1代码\n",
    "\n",
    "#导入需要的模块\n",
    "import matplotlib.pyplot as plt\n",
    "import numpy as np\n",
    "from sklearn.neighbors import KNeighborsClassifier   #导入k近邻算法模块\n",
    "from sklearn.model_selection import train_test_split #导入数据分割模块\n",
    "from sklearn.model_selection import cross_val_score  #导入交叉验证模块\n",
    "\n",
    "#数据处理\n",
    "x=np.array([[19,30],[30,40],[39,47],[40,52],[47,50],[50,55],[60,60],[62,65],[73,70],[75,82],[77,85],[90,95],[92,90]])\t#数据特征\n",
    "y=np.array([0,0,0,0,0,0,1,1,1,1,1,1,1])\t#标签\n",
    "x_train,x_test,y_train,y_test=train_test_split(x,y,test_size=0.3,random_state=0) #将数据集拆分为训练集与测试集\n",
    "\n",
    "#k取不同值的情况下，模型的预测误差率计算\n",
    "k_range=range(2,11)         #设置k值的取值范围\n",
    "k_error=[]                  #保存预测误差率的数组\n",
    "for k in k_range:\n",
    "    model=KNeighborsClassifier(n_neighbors=k)\n",
    "    scores=cross_val_score(model,x,y,cv=5,scoring='accuracy')#交叉验证中，cv参数决定数据集划分比例，这里的训练集与测试集的比例是5:1\n",
    "    k_error.append(1-scores.mean())              #将每个k值下的模型误差率添加到数组\n",
    "    \n",
    "#画图，x轴表示k的取值，y轴表示预测误差率\n",
    "plt.rcParams['font.sans-serif']='Simhei'\n",
    "plt.plot(k_range,k_error,'r-')\n",
    "plt.xlabel('k的取值')\n",
    "plt.ylabel('预测误差率')\n",
    "plt.savefig('图4-5.eps',dpi=120)\n",
    "plt.show()"
   ]
  },
  {
   "cell_type": "code",
   "execution_count": 26,
   "id": "71b9c1c9",
   "metadata": {},
   "outputs": [
    {
     "data": {
      "text/plain": [
       "KNeighborsClassifier(n_neighbors=7)"
      ]
     },
     "execution_count": 26,
     "metadata": {},
     "output_type": "execute_result"
    }
   ],
   "source": [
    "#k=5与k=7时，分别训练模型\n",
    "model1=KNeighborsClassifier(5)\t#k=5时，建立模型\n",
    "model1.fit(x_train,y_train)\n",
    "model2=KNeighborsClassifier(7)\t#k=7时，建立模型\n",
    "model2.fit(x_train,y_train)"
   ]
  },
  {
   "cell_type": "code",
   "execution_count": 27,
   "id": "5755db1f",
   "metadata": {},
   "outputs": [
    {
     "name": "stdout",
     "output_type": "stream",
     "text": [
      "k=5时，预测样本的分类结果为 [0]\n",
      "k=7时，预测样本的分类结果为 [0]\n"
     ]
    }
   ],
   "source": [
    "#分别使用两个模型预测新样本\n",
    "pred1=model1.predict([[55,65]])\n",
    "pred2=model2.predict([[55,65]])\n",
    "print(\"k=5时，预测样本的分类结果为\",pred1)\n",
    "print(\"k=7时，预测样本的分类结果为\",pred2)"
   ]
  },
  {
   "cell_type": "code",
   "execution_count": null,
   "id": "4febf9e6",
   "metadata": {},
   "outputs": [],
   "source": []
  }
 ],
 "metadata": {
  "kernelspec": {
   "display_name": "Python 3 (ipykernel)",
   "language": "python",
   "name": "python3"
  },
  "language_info": {
   "codemirror_mode": {
    "name": "ipython",
    "version": 3
   },
   "file_extension": ".py",
   "mimetype": "text/x-python",
   "name": "python",
   "nbconvert_exporter": "python",
   "pygments_lexer": "ipython3",
   "version": "3.9.12"
  }
 },
 "nbformat": 4,
 "nbformat_minor": 5
}
