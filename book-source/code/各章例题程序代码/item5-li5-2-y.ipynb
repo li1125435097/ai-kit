{
 "cells": [
  {
   "cell_type": "code",
   "execution_count": 1,
   "id": "61c07092",
   "metadata": {},
   "outputs": [
    {
     "name": "stdout",
     "output_type": "stream",
     "text": [
      "测试集数据的预测标签为 [0 1 1 0 2 2 2 0 0 2 1 0 2 1 1 0 1 1 0 0 1 1 2 0 2 1 0 0 1 2 1 2 1 2 2 0 1\n",
      " 0 1 2 2 0 1 2 1 2 0 0 0 1]\n",
      "测试集数据的真实标签为 [0 1 1 0 2 1 2 0 0 2 1 0 2 1 1 0 1 1 0 0 1 1 1 0 2 1 0 0 1 2 1 2 1 2 2 0 1\n",
      " 0 1 2 2 0 2 2 1 2 0 0 0 1]\n",
      "测试集共有50条数据，其中预测错误的数据有3条，预测准确率为0.94\n"
     ]
    }
   ],
   "source": [
    "#项目5-例5-2代码\n",
    "#导入需要的库\n",
    "from sklearn.datasets import load_iris #导入鸢尾花数据集\n",
    "from sklearn.model_selection import train_test_split\n",
    "from sklearn.naive_bayes import GaussianNB  #导入高斯朴素贝叶斯模块\n",
    "from sklearn.metrics import accuracy_score\n",
    "\n",
    "#提取特征，划分数据集\n",
    "x,y=load_iris().data,load_iris().target    \n",
    "x_train,x_test,y_train,y_test=train_test_split(x,y,random_state=1,test_size=50) \n",
    "\n",
    "#定义与训练模型\n",
    "model=GaussianNB()\t    #建立高斯朴素贝叶斯模型\n",
    "model.fit(x_train,y_train)\t\t#训练模型\n",
    "#模型评估\n",
    "pred=model.predict(x_test)  #测试集的预测值\n",
    "print(\"测试集数据的预测标签为\",pred)\n",
    "print(\"测试集数据的真实标签为\",y_test)\n",
    "print(\"测试集共有%d条数据，其中预测错误的数据有%d条，预测准确率为%.2f\"%(x_test.shape[0],(pred!=y_test).sum(),accuracy_score(y_test,pred)))\n"
   ]
  },
  {
   "cell_type": "code",
   "execution_count": null,
   "id": "f3d3c473",
   "metadata": {},
   "outputs": [],
   "source": []
  },
  {
   "cell_type": "code",
   "execution_count": null,
   "id": "e4436b4d",
   "metadata": {},
   "outputs": [],
   "source": []
  },
  {
   "cell_type": "code",
   "execution_count": null,
   "id": "6634097d",
   "metadata": {},
   "outputs": [],
   "source": []
  }
 ],
 "metadata": {
  "kernelspec": {
   "display_name": "Python 3 (ipykernel)",
   "language": "python",
   "name": "python3"
  },
  "language_info": {
   "codemirror_mode": {
    "name": "ipython",
    "version": 3
   },
   "file_extension": ".py",
   "mimetype": "text/x-python",
   "name": "python",
   "nbconvert_exporter": "python",
   "pygments_lexer": "ipython3",
   "version": "3.9.12"
  }
 },
 "nbformat": 4,
 "nbformat_minor": 5
}
