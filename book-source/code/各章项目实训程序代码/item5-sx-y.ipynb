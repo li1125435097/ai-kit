{
 "cells": [
  {
   "cell_type": "code",
   "execution_count": 4,
   "id": "ebc8a3bc",
   "metadata": {},
   "outputs": [
    {
     "name": "stdout",
     "output_type": "stream",
     "text": [
      "要下雨了，快做好准备吧\n"
     ]
    }
   ],
   "source": [
    "#项目5-项目实训代码\n",
    "\n",
    "import numpy as np\n",
    "from sklearn.naive_bayes import BernoulliNB  #导入伯努利朴素贝叶斯模块\n",
    "\n",
    "#输入训练集数据\n",
    "x=np.array([[0,1,0],[1,1,1],[0,1,1],[0,0,0],[0,1,1],[0,1,0],[1,0,0]])\t\n",
    "y=np.array([0,1,1,0,1,0,0])\n",
    "\n",
    "#定义与训练模型\n",
    "model=BernoulliNB()\t    \n",
    "model.fit(x,y)\n",
    "\n",
    "#预测未来一天的天气\n",
    "pred=model.predict([[1,0,1]])\n",
    "if pred==0:\n",
    "    print(\"这是一个好天气\")\n",
    "else:\n",
    "    print(\"要下雨了，快做好准备吧\")"
   ]
  },
  {
   "cell_type": "code",
   "execution_count": null,
   "id": "5daf65c0",
   "metadata": {},
   "outputs": [],
   "source": []
  }
 ],
 "metadata": {
  "kernelspec": {
   "display_name": "Python 3 (ipykernel)",
   "language": "python",
   "name": "python3"
  },
  "language_info": {
   "codemirror_mode": {
    "name": "ipython",
    "version": 3
   },
   "file_extension": ".py",
   "mimetype": "text/x-python",
   "name": "python",
   "nbconvert_exporter": "python",
   "pygments_lexer": "ipython3",
   "version": "3.9.12"
  }
 },
 "nbformat": 4,
 "nbformat_minor": 5
}
