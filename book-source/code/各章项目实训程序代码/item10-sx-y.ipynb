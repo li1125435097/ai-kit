{
 "cells": [
  {
   "cell_type": "code",
   "execution_count": 19,
   "id": "5a2a3d10",
   "metadata": {},
   "outputs": [
    {
     "data": {
      "image/png": "[encoded data removed]",
      "text/plain": [
       "<Figure size 432x288 with 15 Axes>"
      ]
     },
     "metadata": {},
     "output_type": "display_data"
    }
   ],
   "source": [
    "#项目10项目实施代码\n",
    "import numpy as np\n",
    "from sklearn.neural_network import MLPClassifier\n",
    "from sklearn.datasets import load_digits #导入手写数字数据集\n",
    "import matplotlib.pyplot as plt\n",
    "\n",
    "x,y=load_digits().data,load_digits().target\n",
    "\n",
    "#显示图片\n",
    "fig,ax=plt.subplots(3,5) \n",
    "for i,axi in enumerate(ax.flat):\n",
    "    axi.imshow(x[i].reshape(8,8),cmap='bone')\n",
    "    axi.set(xticks=[],yticks=[])\n",
    "plt.show()\n"
   ]
  },
  {
   "cell_type": "code",
   "execution_count": 8,
   "id": "eb8daa8f",
   "metadata": {},
   "outputs": [],
   "source": [
    "#数据预处理\n",
    "from sklearn.preprocessing import StandardScaler #导入数据预处理类\n",
    "\n",
    "#训练集数据标准化处理\n",
    "x=StandardScaler().fit_transform(x)"
   ]
  },
  {
   "cell_type": "code",
   "execution_count": 13,
   "id": "3a018a27",
   "metadata": {},
   "outputs": [
    {
     "name": "stdout",
     "output_type": "stream",
     "text": [
      "模型评估报告：\n",
      "              precision    recall  f1-score   support\n",
      "\n",
      "           0       0.97      0.97      0.97        32\n",
      "           1       0.93      0.93      0.93        44\n",
      "           2       1.00      0.97      0.98        31\n",
      "           3       0.92      0.92      0.92        36\n",
      "           4       0.97      0.86      0.91        35\n",
      "           5       0.98      0.98      0.98        43\n",
      "           6       1.00      0.97      0.99        35\n",
      "           7       0.91      0.97      0.94        40\n",
      "           8       0.82      0.92      0.87        36\n",
      "           9       0.85      0.82      0.84        28\n",
      "\n",
      "    accuracy                           0.93       360\n",
      "   macro avg       0.93      0.93      0.93       360\n",
      "weighted avg       0.94      0.93      0.93       360\n",
      "\n"
     ]
    }
   ],
   "source": [
    "#训练与评估模型\n",
    "from sklearn.neural_network import MLPClassifier\n",
    "from sklearn.metrics import classification_report\n",
    "from sklearn.model_selection import train_test_split\n",
    "\n",
    "#拆分数据集\n",
    "x_train,x_test,y_train,y_test=train_test_split(x,y,random_state=2,test_size=0.2) #将数据集拆分为训练集与测试集\n",
    "#模型训练\n",
    "model=MLPClassifier(hidden_layer_sizes=(10,10),activation='relu',solver='sgd',learning_rate_init=0.001,max_iter=1000,random_state=1)\n",
    "model.fit(x_train,y_train)\n",
    "pred=model.predict(x_test)\n",
    "\n",
    "\n",
    "#模型评估\n",
    "re=classification_report(y_test,pred)\n",
    "print('模型评估报告：')\n",
    "print(re)"
   ]
  },
  {
   "cell_type": "code",
   "execution_count": 23,
   "id": "9ecd5dcf",
   "metadata": {},
   "outputs": [
    {
     "data": {
      "image/png": "[encoded data removed]",
      "text/plain": [
       "<Figure size 432x288 with 10 Axes>"
      ]
     },
     "metadata": {},
     "output_type": "display_data"
    }
   ],
   "source": [
    "#显示分类结果\n",
    "fig,ax=plt.subplots(2,5) #创建一个2行5列的画布\n",
    "for i,axi in enumerate(ax.flat):\n",
    "    t=np.random.randint(1,360)#生成随机整数t作为测试集的下标，可随机选取测试集中的图片\n",
    "    axi.imshow(x_test[t].reshape(8,8),cmap='bone')#绘制图像\n",
    "    axi.set(xticks=[],yticks=[])       \n",
    "    axi.set_xlabel(\"标签值：\"+str(y_test[t])+\"\\n预测值：\"+str(pred[t])) #显示预测值与标签（真实）值\n",
    "plt.rcParams['font.sans-serif']='Simhei'\n",
    "plt.show()"
   ]
  },
  {
   "cell_type": "code",
   "execution_count": null,
   "id": "7927bf03",
   "metadata": {},
   "outputs": [],
   "source": []
  },
  {
   "cell_type": "code",
   "execution_count": null,
   "id": "a8acd424",
   "metadata": {},
   "outputs": [],
   "source": []
  }
 ],
 "metadata": {
  "kernelspec": {
   "display_name": "Python 3 (ipykernel)",
   "language": "python",
   "name": "python3"
  },
  "language_info": {
   "codemirror_mode": {
    "name": "ipython",
    "version": 3
   },
   "file_extension": ".py",
   "mimetype": "text/x-python",
   "name": "python",
   "nbconvert_exporter": "python",
   "pygments_lexer": "ipython3",
   "version": "3.9.12"
  }
 },
 "nbformat": 4,
 "nbformat_minor": 5
}
