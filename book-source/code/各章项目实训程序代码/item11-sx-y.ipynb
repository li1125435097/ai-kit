{
 "cells": [
  {
   "cell_type": "code",
   "execution_count": 206,
   "id": "69739781",
   "metadata": {},
   "outputs": [
    {
     "name": "stdout",
     "output_type": "stream",
     "text": [
      "小麦种子数据集\n",
      "      area  perimeter  compactness  length of kernel  width of kernel  \\\n",
      "0    15.26      14.84       0.8710             5.763            3.312   \n",
      "1    14.88      14.57       0.8811             5.554            3.333   \n",
      "2    14.29      14.09       0.9050             5.291            3.337   \n",
      "3    13.84      13.94       0.8955             5.324            3.379   \n",
      "4    16.14      14.99       0.9034             5.658            3.562   \n",
      "..     ...        ...          ...               ...              ...   \n",
      "205  12.19      13.20       0.8783             5.137            2.981   \n",
      "206  11.23      12.88       0.8511             5.140            2.795   \n",
      "207  13.20      13.66       0.8883             5.236            3.232   \n",
      "208  11.84      13.21       0.8521             5.175            2.836   \n",
      "209  12.30      13.34       0.8684             5.243            2.974   \n",
      "\n",
      "     asymmetry coefficient  length of kernel groove  class  \n",
      "0                    2.221                    5.220      1  \n",
      "1                    1.018                    4.956      1  \n",
      "2                    2.699                    4.825      1  \n",
      "3                    2.259                    4.805      1  \n",
      "4                    1.355                    5.175      1  \n",
      "..                     ...                      ...    ...  \n",
      "205                  3.631                    4.870      3  \n",
      "206                  4.325                    5.003      3  \n",
      "207                  8.315                    5.056      3  \n",
      "208                  3.598                    5.044      3  \n",
      "209                  5.637                    5.063      3  \n",
      "\n",
      "[210 rows x 8 columns]\n"
     ]
    }
   ],
   "source": [
    "#项目11-项目实训代码\n",
    "#第一步：数据导入\n",
    "import pandas as pd\n",
    "names=['area','perimeter','compactness','length of kernel','width of kernel','asymmetry coefficient','length of kernel groove','class']\n",
    "dataset=pd.read_csv('seeds_dataset.txt',names=names,sep=\"\\s+\")\n",
    "print('小麦种子数据集')\n",
    "print(dataset)\n"
   ]
  },
  {
   "cell_type": "code",
   "execution_count": 207,
   "id": "5a69d479",
   "metadata": {},
   "outputs": [
    {
     "name": "stdout",
     "output_type": "stream",
     "text": [
      "class\n",
      "1    70\n",
      "2    70\n",
      "3    70\n",
      "dtype: int64\n"
     ]
    }
   ],
   "source": [
    "#第二步：数据分析（查看数据分组）\n",
    "print(dataset.groupby('class').size())"
   ]
  },
  {
   "cell_type": "code",
   "execution_count": 208,
   "id": "a2998bb7",
   "metadata": {},
   "outputs": [
    {
     "name": "stdout",
     "output_type": "stream",
     "text": [
      "             area   perimeter  compactness  length of kernel  width of kernel  \\\n",
      "count  210.000000  210.000000   210.000000        210.000000       210.000000   \n",
      "mean    14.847524   14.559286     0.870999          5.628533         3.258605   \n",
      "std      2.909699    1.305959     0.023629          0.443063         0.377714   \n",
      "min     10.590000   12.410000     0.808100          4.899000         2.630000   \n",
      "25%     12.270000   13.450000     0.856900          5.262250         2.944000   \n",
      "50%     14.355000   14.320000     0.873450          5.523500         3.237000   \n",
      "75%     17.305000   15.715000     0.887775          5.979750         3.561750   \n",
      "max     21.180000   17.250000     0.918300          6.675000         4.033000   \n",
      "\n",
      "       asymmetry coefficient  length of kernel groove       class  \n",
      "count             210.000000               210.000000  210.000000  \n",
      "mean                3.700201                 5.408071    2.000000  \n",
      "std                 1.503557                 0.491480    0.818448  \n",
      "min                 0.765100                 4.519000    1.000000  \n",
      "25%                 2.561500                 5.045000    1.000000  \n",
      "50%                 3.599000                 5.223000    2.000000  \n",
      "75%                 4.768750                 5.877000    3.000000  \n",
      "max                 8.456000                 6.550000    3.000000  \n"
     ]
    }
   ],
   "source": [
    "#第二步：数据分析（数据统计）\n",
    "print(dataset.describe())"
   ]
  },
  {
   "cell_type": "code",
   "execution_count": 209,
   "id": "891a0f7e",
   "metadata": {},
   "outputs": [
    {
     "data": {
      "image/png": "[encoded data removed]",
      "text/plain": [
       "<Figure size 432x288 with 7 Axes>"
      ]
     },
     "metadata": {
      "needs_background": "light"
     },
     "output_type": "display_data"
    }
   ],
   "source": [
    "#第三步：数据可视化（直方图）\n",
    "import matplotlib.pyplot as plt\n",
    "\n",
    "#分别提取数据集中的特征变量和标签值\n",
    "data=dataset.iloc[range(0,210),range(0,7)].values  #提取训练数据\n",
    "target=dataset.iloc[range(0,210),range(7,8)].values.reshape(1,210)[0]#提取标签值\n",
    "names=['area','perimeter','compactness','length of kernel','width of kernel','asymmetry coefficient','length of kernel groove']\n",
    "\n",
    "#绘制直方图\n",
    "plt.figure() #创建绘图对象\n",
    "for i,name in enumerate(names):\n",
    "    plt.subplot(3,3,i+1)\n",
    "    plt.hist(data[:,i])  #绘制直方图\n",
    "    plt.title(name)\n",
    "plt.tight_layout() #调整图形布局\n",
    "plt.show()\n"
   ]
  },
  {
   "cell_type": "code",
   "execution_count": 210,
   "id": "6507c8a3",
   "metadata": {},
   "outputs": [
    {
     "data": {
      "image/png": "[encoded data removed]",
      "text/plain": [
       "<Figure size 432x288 with 7 Axes>"
      ]
     },
     "metadata": {
      "needs_background": "light"
     },
     "output_type": "display_data"
    }
   ],
   "source": [
    "#第三步：数据可视化（单变量图--箱线图）\n",
    "plt.figure() #创建绘图对象\n",
    "for i,name in enumerate(names):\n",
    "    plt.subplot(3,3,i+1)\n",
    "    plt.boxplot(data[:,i])#绘制箱形图\n",
    "    plt.title(name)\n",
    "plt.tight_layout() #调整图形布局\n",
    "plt.show()"
   ]
  },
  {
   "cell_type": "code",
   "execution_count": 211,
   "id": "a8a8196b",
   "metadata": {},
   "outputs": [],
   "source": [
    "#第四步：算法评估\n",
    "#导入算法模块\n",
    "from sklearn.model_selection import train_test_split\n",
    "from sklearn.linear_model import LogisticRegression  #导入逻辑回归算法模块\n",
    "from sklearn.neighbors import KNeighborsClassifier   #导入k近邻分类算法模块\n",
    "from sklearn.naive_bayes import GaussianNB           #导入高斯朴素贝叶斯算法模块\n",
    "from sklearn.tree import DecisionTreeClassifier      #导入决策树分类算法模块\n",
    "from sklearn.svm import SVC                          #导入支持向量机分类模块\n",
    "from sklearn.ensemble import RandomForestClassifier  #导入随机森林分类算法模块\n",
    "from sklearn.neural_network import MLPClassifier     #导入神经网络算法模块\n",
    "#拆分数据集\n",
    "x,y=data,target\n",
    "x_train,x_test,y_train,y_test=train_test_split(x,y,test_size=0.2,random_state=100)\n",
    "\n",
    "#搭建模型\n",
    "models=[]\n",
    "LRmodel=LogisticRegression(solver='liblinear')                 #搭建逻辑回归模型\n",
    "kNNmodel=KNeighborsClassifier()                                #搭建k近邻模型\n",
    "GNBmodel=GaussianNB()                                          #搭建高斯朴素贝叶斯模型\n",
    "DTreemodel=DecisionTreeClassifier(random_state=1)              #搭建决策树分类模型\n",
    "SVMmodel=SVC(gamma='auto',random_state=1)                      #搭建支持向量机分类模型\n",
    "RFmodel=RandomForestClassifier(n_estimators=10,random_state=1) #搭建随机森林分类模型\n",
    "MLPmodel=MLPClassifier(hidden_layer_sizes=(10,10),random_state=1,max_iter=2000) #搭建神经网络模型\n",
    "#将各个模型加入models中\n",
    "models.append(('LRmodel',LRmodel))\n",
    "models.append(('kNNmodel',kNNmodel))\n",
    "models.append(('GNBmodel',GNBmodel))\n",
    "models.append(('DTreemodel',DTreemodel))\n",
    "models.append(('SVMmodel',SVMmodel))\n",
    "models.append(('RFmodel',RFmodel))\n",
    "models.append(('MLPmodel',MLPmodel))"
   ]
  },
  {
   "cell_type": "code",
   "execution_count": 212,
   "id": "6b633594",
   "metadata": {},
   "outputs": [
    {
     "name": "stdout",
     "output_type": "stream",
     "text": [
      "LRmodel的预测准确率为：0.917469\n",
      "kNNmodel的预测准确率为：0.869697\n",
      "GNBmodel的预测准确率为：0.893226\n",
      "DTreemodel的预测准确率为：0.863280\n",
      "SVMmodel的预测准确率为：0.893583\n",
      "RFmodel的预测准确率为：0.899109\n",
      "MLPmodel的预测准确率为：0.940820\n"
     ]
    }
   ],
   "source": [
    "#第四步：算法评估\n",
    "#使用交叉验证法约束模型的训练过程，并估计每个模型的预测准确率\n",
    "from sklearn.model_selection import cross_val_score  #导入交叉验证模块\n",
    "from sklearn.model_selection import KFold\n",
    "\n",
    "for name,model in models:\n",
    "    kfold=KFold(n_splits=5,random_state=100,shuffle=True)#10折交叉验证\n",
    "    cv_scores=cross_val_score(model,x_train,y_train,cv=kfold,scoring='accuracy')\n",
    "    print('%s的预测准确率为：%f'%(name,cv_scores.mean()))"
   ]
  },
  {
   "cell_type": "code",
   "execution_count": 214,
   "id": "32dd52a7",
   "metadata": {},
   "outputs": [
    {
     "name": "stdout",
     "output_type": "stream",
     "text": [
      "神经网络模型评估报告：\n",
      "              precision    recall  f1-score   support\n",
      "\n",
      "           1       1.00      1.00      1.00         9\n",
      "           2       1.00      1.00      1.00        15\n",
      "           3       1.00      1.00      1.00        18\n",
      "\n",
      "    accuracy                           1.00        42\n",
      "   macro avg       1.00      1.00      1.00        42\n",
      "weighted avg       1.00      1.00      1.00        42\n",
      "\n"
     ]
    }
   ],
   "source": [
    "#第五步：训练与评估模型（神经网络模型）\n",
    "from sklearn.metrics import classification_report\n",
    "MLPmodel=MLPClassifier(hidden_layer_sizes=(10,10),random_state=1,max_iter=2000) \n",
    "MLPmodel.fit(x_train,y_train)\n",
    "#对模型进行评估，并输出评估报告\n",
    "pred=MLPmodel.predict(x_test)\n",
    "re=classification_report(y_test,pred)\n",
    "print('神经网络模型评估报告：')\n",
    "print(re)"
   ]
  },
  {
   "cell_type": "code",
   "execution_count": null,
   "id": "e4c502b4",
   "metadata": {},
   "outputs": [],
   "source": []
  },
  {
   "cell_type": "code",
   "execution_count": null,
   "id": "67b3bff6",
   "metadata": {},
   "outputs": [],
   "source": []
  }
 ],
 "metadata": {
  "kernelspec": {
   "display_name": "Python 3 (ipykernel)",
   "language": "python",
   "name": "python3"
  },
  "language_info": {
   "codemirror_mode": {
    "name": "ipython",
    "version": 3
   },
   "file_extension": ".py",
   "mimetype": "text/x-python",
   "name": "python",
   "nbconvert_exporter": "python",
   "pygments_lexer": "ipython3",
   "version": "3.9.12"
  }
 },
 "nbformat": 4,
 "nbformat_minor": 5
}
