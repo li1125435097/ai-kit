{
 "cells": [
  {
   "cell_type": "code",
   "execution_count": 49,
   "id": "645898fe",
   "metadata": {},
   "outputs": [],
   "source": [
    "#项目11-项目考核-实践题代码\n",
    "\n",
    "from sklearn.datasets import load_iris \n",
    "from sklearn.model_selection import train_test_split\n",
    "\n",
    "#提取特征，划分数据集\n",
    "x,y=load_iris().data,load_iris().target \n",
    "x_train,x_test,y_train,y_test=train_test_split(x,y,random_state=1,test_size=50) "
   ]
  },
  {
   "cell_type": "code",
   "execution_count": 50,
   "id": "b967084f",
   "metadata": {},
   "outputs": [],
   "source": [
    "#导入算法模块\n",
    "from sklearn.linear_model import LogisticRegression  #导入逻辑回归算法模块\n",
    "from sklearn.neighbors import KNeighborsClassifier   #导入k近邻分类算法模块\n",
    "from sklearn.naive_bayes import GaussianNB           #导入高斯朴素贝叶斯算法模块\n",
    "from sklearn.tree import DecisionTreeClassifier      #导入决策树分类算法模块\n",
    "from sklearn.svm import SVC                          #导入支持向量机分类模块\n",
    "from sklearn.ensemble import RandomForestClassifier  #导入随机森林分类算法模块\n",
    "from sklearn.neural_network import MLPClassifier     #导入神经网络算法模块\n",
    "\n",
    "#搭建模型\n",
    "models=[]\n",
    "LRmodel=LogisticRegression(solver='liblinear')                 #搭建逻辑回归模型\n",
    "kNNmodel=KNeighborsClassifier()                                #搭建k近邻模型\n",
    "GNBmodel=GaussianNB()                                          #搭建高斯朴素贝叶斯模型\n",
    "DTreemodel=DecisionTreeClassifier(random_state=1)              #搭建决策树分类模型\n",
    "SVMmodel=SVC(gamma='auto',random_state=1)                      #搭建支持向量机分类模型\n",
    "RFmodel=RandomForestClassifier(n_estimators=10,random_state=1) #搭建随机森林分类模型\n",
    "MLPmodel=MLPClassifier(hidden_layer_sizes=(10,10),random_state=1,max_iter=2000) #搭建神经网络模型\n",
    "#将各个模型加入models中\n",
    "models.append(('LRmodel',LRmodel))\n",
    "models.append(('kNNmodel',kNNmodel))\n",
    "models.append(('GNBmodel',GNBmodel))\n",
    "models.append(('DTreemodel',DTreemodel))\n",
    "models.append(('SVMmodel',SVMmodel))\n",
    "models.append(('RFmodel',RFmodel))\n",
    "models.append(('MLPmodel',MLPmodel))"
   ]
  },
  {
   "cell_type": "code",
   "execution_count": 51,
   "id": "e6c35659",
   "metadata": {},
   "outputs": [
    {
     "name": "stdout",
     "output_type": "stream",
     "text": [
      "LRmodel的预测准确率为：0.930000\n",
      "kNNmodel的预测准确率为：0.960000\n",
      "GNBmodel的预测准确率为：0.940000\n",
      "DTreemodel的预测准确率为：0.960000\n",
      "SVMmodel的预测准确率为：0.980000\n",
      "RFmodel的预测准确率为：0.960000\n",
      "MLPmodel的预测准确率为：0.970000\n"
     ]
    }
   ],
   "source": [
    "#算法评估\n",
    "#使用交叉验证法约束模型的训练过程，并估计每个模型的预测准确率\n",
    "from sklearn.model_selection import cross_val_score  #导入交叉验证模块\n",
    "from sklearn.model_selection import KFold\n",
    "\n",
    "for name,model in models:\n",
    "    kfold=KFold(n_splits=10,random_state=100,shuffle=True)#10折交叉验证\n",
    "    cv_scores=cross_val_score(model,x_train,y_train,cv=kfold,scoring='accuracy')\n",
    "    print('%s的预测准确率为：%f'%(name,cv_scores.mean()))"
   ]
  },
  {
   "cell_type": "code",
   "execution_count": null,
   "id": "4a3f8ca0",
   "metadata": {},
   "outputs": [],
   "source": []
  },
  {
   "cell_type": "code",
   "execution_count": null,
   "id": "d2d9a23a",
   "metadata": {},
   "outputs": [],
   "source": []
  },
  {
   "cell_type": "code",
   "execution_count": null,
   "id": "4d7c0588",
   "metadata": {},
   "outputs": [],
   "source": []
  }
 ],
 "metadata": {
  "kernelspec": {
   "display_name": "Python 3 (ipykernel)",
   "language": "python",
   "name": "python3"
  },
  "language_info": {
   "codemirror_mode": {
    "name": "ipython",
    "version": 3
   },
   "file_extension": ".py",
   "mimetype": "text/x-python",
   "name": "python",
   "nbconvert_exporter": "python",
   "pygments_lexer": "ipython3",
   "version": "3.9.12"
  }
 },
 "nbformat": 4,
 "nbformat_minor": 5
}
